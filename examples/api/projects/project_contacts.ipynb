{
 "cells": [
  {
   "cell_type": "code",
   "execution_count": 1,
   "metadata": {},
   "outputs": [],
   "source": [
    "from examples.api.auth.auth import get_cred\n",
    "from datetime import datetime, timedelta\n",
    "from adminconsult.api.project import ProjectContact, ProjectContactList, ProjectChanges\n",
    "\n",
    "admin_cred = get_cred()"
   ]
  },
  {
   "cell_type": "code",
   "execution_count": null,
   "metadata": {},
   "outputs": [],
   "source": [
    "project_contacts = ProjectContactList(admin_cred)\n",
    "project_contacts.get(eq__project_id = 33493)\n",
    "project_contacts.to_dataframe()"
   ]
  },
  {
   "cell_type": "code",
   "execution_count": null,
   "metadata": {},
   "outputs": [],
   "source": [
    "from adminconsult.api.admin import ChangeList\n",
    "admin_changes = ChangeList(admin_cred)\n",
    "\n",
    "admin_changes.get(ge__date_action=datetime(2023, 9, 12, 21, 30, 0), le__date_action=datetime.now(), eq__table_name='PROJECT_LINK_CUSTOMER', limit_last_logs=5000)\n",
    "\n",
    "for change in admin_changes:\n",
    "    print(change.action_type)\n",
    "    print(change.row_identification)\n",
    "    print(change.to_json())"
   ]
  },
  {
   "cell_type": "code",
   "execution_count": null,
   "metadata": {},
   "outputs": [],
   "source": [
    "from adminconsult.api.project import ProjectContactChanges\n",
    "\n",
    "project_contact_changes = ProjectContactChanges(admin_cred)\n",
    "project_contact_changes.get(date_from=datetime(2023, 9, 12, 22, 9, 0), date_until=datetime.now())\n",
    "\n",
    "\n",
    "for inserted_project_contact in project_contact_changes.inserts:\n",
    "    print(inserted_project_contact.project_contact_id)\n",
    "\n",
    "for updated_project_contact in project_contact_changes.updates:\n",
    "    print(updated_project_contact.project_contact_id)\n",
    "\n",
    "for delete_id in project_contact_changes.deletes:\n",
    "    print(delete_id)"
   ]
  },
  {
   "cell_type": "code",
   "execution_count": null,
   "metadata": {},
   "outputs": [],
   "source": []
  }
 ],
 "metadata": {
  "kernelspec": {
   "display_name": "Python 3",
   "language": "python",
   "name": "python3"
  },
  "language_info": {
   "codemirror_mode": {
    "name": "ipython",
    "version": 3
   },
   "file_extension": ".py",
   "mimetype": "text/x-python",
   "name": "python",
   "nbconvert_exporter": "python",
   "pygments_lexer": "ipython3",
   "version": "3.11.7"
  },
  "orig_nbformat": 4
 },
 "nbformat": 4,
 "nbformat_minor": 2
}
