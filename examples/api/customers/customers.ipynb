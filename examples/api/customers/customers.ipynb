{
 "cells": [
  {
   "cell_type": "code",
   "execution_count": 1,
   "metadata": {},
   "outputs": [],
   "source": [
    "import pandas as pd\n",
    "from tqdm import tqdm\n",
    "from adminconsult.api.customer import Customer\n",
    "from examples.api.auth.auth import get_cred\n",
    "\n",
    "admin_cred = get_cred()"
   ]
  },
  {
   "attachments": {},
   "cell_type": "markdown",
   "metadata": {},
   "source": [
    "# Get one customer"
   ]
  },
  {
   "cell_type": "code",
   "execution_count": null,
   "metadata": {},
   "outputs": [],
   "source": [
    "# Get one customer\n",
    "admin_customer = Customer(admin_cred)\n",
    "print(admin_customer.name)"
   ]
  },
  {
   "cell_type": "code",
   "execution_count": null,
   "metadata": {},
   "outputs": [],
   "source": [
    "admin_customer.get(id=14614)\n",
    "\n",
    "print(admin_customer.name)\n",
    "print(admin_customer.to_json())"
   ]
  },
  {
   "attachments": {},
   "cell_type": "markdown",
   "metadata": {},
   "source": [
    "## Get customer list"
   ]
  },
  {
   "cell_type": "code",
   "execution_count": null,
   "metadata": {},
   "outputs": [],
   "source": [
    "from adminconsult.api.customer import CustomerList\n",
    "\n",
    "# Get customer list\n",
    "admin_customers = CustomerList(admin_cred)\n",
    "admin_customers.get(max_results=750)\n",
    "print(admin_customers.count)"
   ]
  },
  {
   "cell_type": "code",
   "execution_count": null,
   "metadata": {},
   "outputs": [],
   "source": [
    "# Import SDK & initialize\n",
    "from adminconsult.api.customer import CustomerList\n",
    "admin_customers = CustomerList(admin_cred)\n",
    "\n",
    "# Get filtered customer list - execute api calls\n",
    "admin_customers.get(gt__customer_id=5000, eq__is_active=True, startswith__name='V')\n",
    "\n",
    "# Interpret and print results\n",
    "df_admin_customers = admin_customers.to_dataframe()\n",
    "print('{} customer in dataframe'.format(df_admin_customers.shape[0]))\n",
    "df_admin_customers.head()"
   ]
  },
  {
   "cell_type": "code",
   "execution_count": null,
   "metadata": {},
   "outputs": [],
   "source": [
    "# Print logs\n",
    "admin_cred.print_logs()"
   ]
  },
  {
   "cell_type": "markdown",
   "metadata": {},
   "source": [
    "## CustomerAddress"
   ]
  },
  {
   "cell_type": "code",
   "execution_count": null,
   "metadata": {},
   "outputs": [],
   "source": [
    "from adminconsult.api.customer import CustomerAddress, CustomerAddressList\n",
    "\n",
    "customer_hq_addresses = CustomerAddressList(admin_cred)\n",
    "customer_hq_addresses.get(in__customer_id=list(pd.unique(df_admin_customers['customer_id'][:10])), eq__registered_office=True)\n",
    "df_customer_hq_address = customer_hq_addresses.to_dataframe()\n",
    "df_customer_hq_address.head(2)"
   ]
  },
  {
   "cell_type": "code",
   "execution_count": null,
   "metadata": {},
   "outputs": [],
   "source": [
    "from adminconsult.api.customer import CustomerAddressComplementList\n",
    "\n",
    "adr_complement = CustomerAddressComplementList(admin_cred)\n",
    "adr_complement.get(customer_id=14614)\n",
    "df_adr_complement = adr_complement.to_dataframe()\n",
    "\n",
    "df_adr_complement.head()"
   ]
  },
  {
   "cell_type": "code",
   "execution_count": null,
   "metadata": {},
   "outputs": [],
   "source": [
    "customer_address = CustomerAddress(admin_cred)\n",
    "customer_address.get(10388)\n",
    "customer_address.to_json()"
   ]
  },
  {
   "cell_type": "code",
   "execution_count": null,
   "metadata": {},
   "outputs": [],
   "source": [
    "customer_address._create_put_payload()"
   ]
  },
  {
   "cell_type": "code",
   "execution_count": 18,
   "metadata": {},
   "outputs": [],
   "source": [
    "customer_address.update(invoice_address=True, postal_address=True, registered_office=True, house_nr=377)"
   ]
  },
  {
   "cell_type": "code",
   "execution_count": null,
   "metadata": {},
   "outputs": [],
   "source": [
    "customer_address = CustomerAddress(admin_cred)\n",
    "customer_address.get(10388)\n",
    "customer_address.to_json()"
   ]
  },
  {
   "cell_type": "code",
   "execution_count": null,
   "metadata": {},
   "outputs": [],
   "source": [
    " "
   ]
  }
 ],
 "metadata": {
  "kernelspec": {
   "display_name": "Python 3",
   "language": "python",
   "name": "python3"
  },
  "language_info": {
   "codemirror_mode": {
    "name": "ipython",
    "version": 3
   },
   "file_extension": ".py",
   "mimetype": "text/x-python",
   "name": "python",
   "nbconvert_exporter": "python",
   "pygments_lexer": "ipython3",
   "version": "3.11.7"
  },
  "orig_nbformat": 4
 },
 "nbformat": 4,
 "nbformat_minor": 2
}
