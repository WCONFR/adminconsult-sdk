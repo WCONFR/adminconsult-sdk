{
 "cells": [
  {
   "cell_type": "code",
   "execution_count": 2,
   "metadata": {},
   "outputs": [],
   "source": [
    "from examples.api.auth.auth import get_cred\n",
    "from adminconsult.api.organization import Company, CompanyList\n",
    "\n",
    "admin_cred = get_cred()"
   ]
  },
  {
   "attachments": {},
   "cell_type": "markdown",
   "metadata": {},
   "source": [
    "# Get one company"
   ]
  },
  {
   "cell_type": "code",
   "execution_count": null,
   "metadata": {},
   "outputs": [],
   "source": [
    "company_id = 2\n",
    "admin_company= Company(admin_cred)\n",
    "try:\n",
    "    admin_company.get(id = company_id)\n",
    "    print(admin_company.to_json())\n",
    "except Exception as _:\n",
    "    print(f'Company with id \\'{company_id}\\' doesn\\'t exist.')"
   ]
  },
  {
   "cell_type": "code",
   "execution_count": null,
   "metadata": {},
   "outputs": [],
   "source": [
    "admin_companies_list = CompanyList(admin_cred)\n",
    "admin_companies_list.get()\n",
    "df_admin_companies_list = admin_companies_list.to_dataframe()\n",
    "df_admin_companies_list.head(2)"
   ]
  },
  {
   "attachments": {},
   "cell_type": "markdown",
   "metadata": {},
   "source": [
    "<br><br>"
   ]
  }
 ],
 "metadata": {
  "kernelspec": {
   "display_name": "Python 3",
   "language": "python",
   "name": "python3"
  },
  "language_info": {
   "codemirror_mode": {
    "name": "ipython",
    "version": 3
   },
   "file_extension": ".py",
   "mimetype": "text/x-python",
   "name": "python",
   "nbconvert_exporter": "python",
   "pygments_lexer": "ipython3",
   "version": "3.11.7"
  },
  "orig_nbformat": 4
 },
 "nbformat": 4,
 "nbformat_minor": 2
}
