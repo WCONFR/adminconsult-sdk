{
 "cells": [
  {
   "cell_type": "code",
   "execution_count": 6,
   "metadata": {},
   "outputs": [],
   "source": [
    "import pandas as pd\n",
    "from datetime import datetime, timedelta\n",
    "from examples.api.auth.auth import get_cred\n",
    "\n",
    "pd.set_option('display.max_columns', None)\n",
    "\n",
    "admin_cred = get_cred()"
   ]
  },
  {
   "cell_type": "code",
   "execution_count": null,
   "metadata": {},
   "outputs": [],
   "source": [
    "from adminconsult.api.admin import ChangeList\n",
    "admin_changes = ChangeList(admin_cred)\n",
    "admin_changes.get(limit_last_logs=5000, ge__date_action=datetime.now()-timedelta(minutes=5), eq__db_user='Hermes', on_technical_max='warn')\n",
    "df_admin_changes = admin_changes.to_dataframe()\n",
    "print('{} changes'.format(df_admin_changes.shape[0]))\n",
    "df_admin_changes.head(5)"
   ]
  },
  {
   "cell_type": "code",
   "execution_count": null,
   "metadata": {},
   "outputs": [],
   "source": [
    "from adminconsult.api.admin import ChangeList\n",
    "admin_changes = ChangeList(admin_cred)\n",
    "admin_changes.get(limit_last_logs=5000, ge__date_action=datetime.now()-timedelta(minutes=1), eq__db_user='Hermes', on_technical_max='warn')\n",
    "df_admin_changes = admin_changes.to_dataframe()\n",
    "print('{} changes'.format(df_admin_changes.shape[0]))\n",
    "df_admin_changes.head(10)"
   ]
  },
  {
   "cell_type": "code",
   "execution_count": null,
   "metadata": {},
   "outputs": [],
   "source": []
  }
 ],
 "metadata": {
  "kernelspec": {
   "display_name": "Python 3",
   "language": "python",
   "name": "python3"
  },
  "language_info": {
   "codemirror_mode": {
    "name": "ipython",
    "version": 3
   },
   "file_extension": ".py",
   "mimetype": "text/x-python",
   "name": "python",
   "nbconvert_exporter": "python",
   "pygments_lexer": "ipython3",
   "version": "3.11.7"
  },
  "orig_nbformat": 4
 },
 "nbformat": 4,
 "nbformat_minor": 2
}
